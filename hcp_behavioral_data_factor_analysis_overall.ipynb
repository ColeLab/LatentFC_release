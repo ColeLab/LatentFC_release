{
 "cells": [
  {
   "cell_type": "code",
   "execution_count": 1,
   "metadata": {},
   "outputs": [],
   "source": [
    "% matplotlib inline\n",
    "import numpy as np\n",
    "import pandas as pd\n",
    "from matplotlib import pyplot as plt"
   ]
  },
  {
   "cell_type": "markdown",
   "metadata": {},
   "source": [
    "# Setup"
   ]
  },
  {
   "cell_type": "code",
   "execution_count": 2,
   "metadata": {},
   "outputs": [],
   "source": [
    "# Directory paths\n",
    "datadir = '/projects/f_mc1689_1/LatentFC/data'\n",
    "behavdir = '%s/hcpbehavior' % (datadir)\n",
    "subj_group = 'overall'"
   ]
  },
  {
   "cell_type": "code",
   "execution_count": 3,
   "metadata": {
    "scrolled": true
   },
   "outputs": [
    {
     "data": {
      "text/plain": [
       "351"
      ]
     },
     "execution_count": 3,
     "metadata": {},
     "output_type": "execute_result"
    }
   ],
   "source": [
    "# Load list of subjects included in the fMRI analysis\n",
    "fmri_subjs_f = '%s/hcpPostProcCiric/%s_subjects.npy' % (datadir, subj_group)\n",
    "fmri_subjs = np.load(fmri_subjs_f)\n",
    "fmri_subjs = list(np.array(fmri_subjs, dtype=int))\n",
    "fmri_subjs.remove(393247)#remove subject with missing data\n",
    "len(fmri_subjs)"
   ]
  },
  {
   "cell_type": "code",
   "execution_count": 4,
   "metadata": {},
   "outputs": [
    {
     "data": {
      "text/plain": [
       "(1206, 581)"
      ]
     },
     "execution_count": 4,
     "metadata": {},
     "output_type": "execute_result"
    }
   ],
   "source": [
    "# Load behavioral data\n",
    "df_f = '%s/hcp_unrestricted_behavior.csv' % (behavdir)\n",
    "df = pd.read_csv(df_f, index_col=0)\n",
    "df.shape"
   ]
  },
  {
   "cell_type": "code",
   "execution_count": 5,
   "metadata": {},
   "outputs": [
    {
     "data": {
      "text/html": [
       "<div>\n",
       "<style scoped>\n",
       "    .dataframe tbody tr th:only-of-type {\n",
       "        vertical-align: middle;\n",
       "    }\n",
       "\n",
       "    .dataframe tbody tr th {\n",
       "        vertical-align: top;\n",
       "    }\n",
       "\n",
       "    .dataframe thead th {\n",
       "        text-align: right;\n",
       "    }\n",
       "</style>\n",
       "<table border=\"1\" class=\"dataframe\">\n",
       "  <thead>\n",
       "    <tr style=\"text-align: right;\">\n",
       "      <th></th>\n",
       "      <th>Release</th>\n",
       "      <th>Acquisition</th>\n",
       "      <th>Gender</th>\n",
       "      <th>Age</th>\n",
       "      <th>3T_Full_MR_Compl</th>\n",
       "      <th>T1_Count</th>\n",
       "      <th>T2_Count</th>\n",
       "      <th>3T_RS-fMRI_Count</th>\n",
       "      <th>3T_RS-fMRI_PctCompl</th>\n",
       "      <th>3T_Full_Task_fMRI</th>\n",
       "      <th>...</th>\n",
       "      <th>Noise_Comp</th>\n",
       "      <th>Odor_Unadj</th>\n",
       "      <th>Odor_AgeAdj</th>\n",
       "      <th>PainIntens_RawScore</th>\n",
       "      <th>PainInterf_Tscore</th>\n",
       "      <th>Taste_Unadj</th>\n",
       "      <th>Taste_AgeAdj</th>\n",
       "      <th>Mars_Log_Score</th>\n",
       "      <th>Mars_Errs</th>\n",
       "      <th>Mars_Final</th>\n",
       "    </tr>\n",
       "    <tr>\n",
       "      <th>Subject</th>\n",
       "      <th></th>\n",
       "      <th></th>\n",
       "      <th></th>\n",
       "      <th></th>\n",
       "      <th></th>\n",
       "      <th></th>\n",
       "      <th></th>\n",
       "      <th></th>\n",
       "      <th></th>\n",
       "      <th></th>\n",
       "      <th></th>\n",
       "      <th></th>\n",
       "      <th></th>\n",
       "      <th></th>\n",
       "      <th></th>\n",
       "      <th></th>\n",
       "      <th></th>\n",
       "      <th></th>\n",
       "      <th></th>\n",
       "      <th></th>\n",
       "      <th></th>\n",
       "    </tr>\n",
       "  </thead>\n",
       "  <tbody>\n",
       "    <tr>\n",
       "      <th>100206</th>\n",
       "      <td>S900</td>\n",
       "      <td>Q11</td>\n",
       "      <td>M</td>\n",
       "      <td>26-30</td>\n",
       "      <td>True</td>\n",
       "      <td>1</td>\n",
       "      <td>1</td>\n",
       "      <td>4</td>\n",
       "      <td>100.0</td>\n",
       "      <td>True</td>\n",
       "      <td>...</td>\n",
       "      <td>6.0</td>\n",
       "      <td>108.79</td>\n",
       "      <td>97.19</td>\n",
       "      <td>1.0</td>\n",
       "      <td>49.7</td>\n",
       "      <td>72.63</td>\n",
       "      <td>72.03</td>\n",
       "      <td>1.84</td>\n",
       "      <td>0.0</td>\n",
       "      <td>1.84</td>\n",
       "    </tr>\n",
       "    <tr>\n",
       "      <th>100408</th>\n",
       "      <td>Q3</td>\n",
       "      <td>Q03</td>\n",
       "      <td>M</td>\n",
       "      <td>31-35</td>\n",
       "      <td>True</td>\n",
       "      <td>1</td>\n",
       "      <td>1</td>\n",
       "      <td>4</td>\n",
       "      <td>100.0</td>\n",
       "      <td>True</td>\n",
       "      <td>...</td>\n",
       "      <td>2.0</td>\n",
       "      <td>108.79</td>\n",
       "      <td>98.04</td>\n",
       "      <td>2.0</td>\n",
       "      <td>52.6</td>\n",
       "      <td>114.01</td>\n",
       "      <td>113.59</td>\n",
       "      <td>1.76</td>\n",
       "      <td>2.0</td>\n",
       "      <td>1.68</td>\n",
       "    </tr>\n",
       "    <tr>\n",
       "      <th>101006</th>\n",
       "      <td>S500</td>\n",
       "      <td>Q06</td>\n",
       "      <td>F</td>\n",
       "      <td>31-35</td>\n",
       "      <td>True</td>\n",
       "      <td>2</td>\n",
       "      <td>2</td>\n",
       "      <td>4</td>\n",
       "      <td>100.0</td>\n",
       "      <td>True</td>\n",
       "      <td>...</td>\n",
       "      <td>6.0</td>\n",
       "      <td>122.25</td>\n",
       "      <td>111.41</td>\n",
       "      <td>0.0</td>\n",
       "      <td>38.6</td>\n",
       "      <td>123.80</td>\n",
       "      <td>123.31</td>\n",
       "      <td>1.80</td>\n",
       "      <td>0.0</td>\n",
       "      <td>1.80</td>\n",
       "    </tr>\n",
       "    <tr>\n",
       "      <th>102311</th>\n",
       "      <td>S500</td>\n",
       "      <td>Q06</td>\n",
       "      <td>F</td>\n",
       "      <td>26-30</td>\n",
       "      <td>True</td>\n",
       "      <td>1</td>\n",
       "      <td>1</td>\n",
       "      <td>4</td>\n",
       "      <td>100.0</td>\n",
       "      <td>True</td>\n",
       "      <td>...</td>\n",
       "      <td>4.4</td>\n",
       "      <td>122.25</td>\n",
       "      <td>110.45</td>\n",
       "      <td>1.0</td>\n",
       "      <td>52.2</td>\n",
       "      <td>98.31</td>\n",
       "      <td>99.06</td>\n",
       "      <td>1.80</td>\n",
       "      <td>0.0</td>\n",
       "      <td>1.80</td>\n",
       "    </tr>\n",
       "    <tr>\n",
       "      <th>102513</th>\n",
       "      <td>S900</td>\n",
       "      <td>Q10</td>\n",
       "      <td>M</td>\n",
       "      <td>26-30</td>\n",
       "      <td>True</td>\n",
       "      <td>2</td>\n",
       "      <td>2</td>\n",
       "      <td>4</td>\n",
       "      <td>100.0</td>\n",
       "      <td>True</td>\n",
       "      <td>...</td>\n",
       "      <td>5.2</td>\n",
       "      <td>108.79</td>\n",
       "      <td>98.04</td>\n",
       "      <td>2.0</td>\n",
       "      <td>54.3</td>\n",
       "      <td>84.07</td>\n",
       "      <td>82.37</td>\n",
       "      <td>1.92</td>\n",
       "      <td>0.0</td>\n",
       "      <td>1.92</td>\n",
       "    </tr>\n",
       "  </tbody>\n",
       "</table>\n",
       "<p>5 rows × 581 columns</p>\n",
       "</div>"
      ],
      "text/plain": [
       "        Release Acquisition Gender    Age  3T_Full_MR_Compl  T1_Count  \\\n",
       "Subject                                                                 \n",
       "100206     S900         Q11      M  26-30              True         1   \n",
       "100408       Q3         Q03      M  31-35              True         1   \n",
       "101006     S500         Q06      F  31-35              True         2   \n",
       "102311     S500         Q06      F  26-30              True         1   \n",
       "102513     S900         Q10      M  26-30              True         2   \n",
       "\n",
       "         T2_Count  3T_RS-fMRI_Count  3T_RS-fMRI_PctCompl  3T_Full_Task_fMRI  \\\n",
       "Subject                                                                       \n",
       "100206          1                 4                100.0               True   \n",
       "100408          1                 4                100.0               True   \n",
       "101006          2                 4                100.0               True   \n",
       "102311          1                 4                100.0               True   \n",
       "102513          2                 4                100.0               True   \n",
       "\n",
       "         ...  Noise_Comp  Odor_Unadj  Odor_AgeAdj  PainIntens_RawScore  \\\n",
       "Subject  ...                                                             \n",
       "100206   ...         6.0      108.79        97.19                  1.0   \n",
       "100408   ...         2.0      108.79        98.04                  2.0   \n",
       "101006   ...         6.0      122.25       111.41                  0.0   \n",
       "102311   ...         4.4      122.25       110.45                  1.0   \n",
       "102513   ...         5.2      108.79        98.04                  2.0   \n",
       "\n",
       "         PainInterf_Tscore  Taste_Unadj  Taste_AgeAdj  Mars_Log_Score  \\\n",
       "Subject                                                                 \n",
       "100206                49.7        72.63         72.03            1.84   \n",
       "100408                52.6       114.01        113.59            1.76   \n",
       "101006                38.6       123.80        123.31            1.80   \n",
       "102311                52.2        98.31         99.06            1.80   \n",
       "102513                54.3        84.07         82.37            1.92   \n",
       "\n",
       "         Mars_Errs  Mars_Final  \n",
       "Subject                         \n",
       "100206         0.0        1.84  \n",
       "100408         2.0        1.68  \n",
       "101006         0.0        1.80  \n",
       "102311         0.0        1.80  \n",
       "102513         0.0        1.92  \n",
       "\n",
       "[5 rows x 581 columns]"
      ]
     },
     "execution_count": 5,
     "metadata": {},
     "output_type": "execute_result"
    }
   ],
   "source": [
    "# Extract data only for subjects in the fMRI analysis\n",
    "df_fmri_subjs = df.loc[fmri_subjs]\n",
    "df_fmri_subjs.head()"
   ]
  },
  {
   "cell_type": "code",
   "execution_count": 6,
   "metadata": {},
   "outputs": [],
   "source": [
    "# Load spreadsheet with descriptions of each of the columns reflecting a cognitive task\n",
    "# in the HCP behavioral spreadsheet\n",
    "info_df_f = '%s/results/HPC_Data_Behavior_info.xlsx' % (behavdir)\n",
    "info_df = pd.read_excel(info_df_f, index_col=0)"
   ]
  },
  {
   "cell_type": "code",
   "execution_count": 7,
   "metadata": {},
   "outputs": [],
   "source": [
    "# Get a \"mask\", where the value of each row is True if FA_inclusion is \"Yes\" and False if \"No\"\n",
    "df_cols_mask = info_df['FA_inclusion'] == 'Yes'\n",
    "# Use the \"mask\" to select only the Column_header values where FA_inclusion is \"True\"\n",
    "df_cols = list(info_df['Column_header'][df_cols_mask].values)"
   ]
  },
  {
   "cell_type": "code",
   "execution_count": 8,
   "metadata": {},
   "outputs": [],
   "source": [
    "# Make a new spreadsheet with only the columns of interest\n",
    "fa_df = df_fmri_subjs[df_cols]"
   ]
  },
  {
   "cell_type": "code",
   "execution_count": 9,
   "metadata": {},
   "outputs": [
    {
     "name": "stderr",
     "output_type": "stream",
     "text": [
      "/home/karnemann/anaconda3/envs/r-env/lib/python2.7/site-packages/ipykernel_launcher.py:2: SettingWithCopyWarning: \n",
      "A value is trying to be set on a copy of a slice from a DataFrame.\n",
      "Try using .loc[row_indexer,col_indexer] = value instead\n",
      "\n",
      "See the caveats in the documentation: http://pandas.pydata.org/pandas-docs/stable/indexing.html#indexing-view-versus-copy\n",
      "  \n"
     ]
    }
   ],
   "source": [
    "tmp = 1 / fa_df['IWRD_RTC'].values\n",
    "fa_df['IWRD_RTC'] = tmp"
   ]
  },
  {
   "cell_type": "code",
   "execution_count": 10,
   "metadata": {},
   "outputs": [
    {
     "data": {
      "text/html": [
       "<div>\n",
       "<style scoped>\n",
       "    .dataframe tbody tr th:only-of-type {\n",
       "        vertical-align: middle;\n",
       "    }\n",
       "\n",
       "    .dataframe tbody tr th {\n",
       "        vertical-align: top;\n",
       "    }\n",
       "\n",
       "    .dataframe thead th {\n",
       "        text-align: right;\n",
       "    }\n",
       "</style>\n",
       "<table border=\"1\" class=\"dataframe\">\n",
       "  <thead>\n",
       "    <tr style=\"text-align: right;\">\n",
       "      <th></th>\n",
       "      <th>PicSeq_Unadj</th>\n",
       "      <th>CardSort_Unadj</th>\n",
       "      <th>Flanker_Unadj</th>\n",
       "      <th>PMAT24_A_CR</th>\n",
       "      <th>ReadEng_Unadj</th>\n",
       "      <th>PicVocab_Unadj</th>\n",
       "      <th>ProcSpeed_Unadj</th>\n",
       "      <th>VSPLOT_TC</th>\n",
       "      <th>IWRD_TOT</th>\n",
       "      <th>IWRD_RTC</th>\n",
       "      <th>ListSort_Unadj</th>\n",
       "    </tr>\n",
       "  </thead>\n",
       "  <tbody>\n",
       "    <tr>\n",
       "      <th>PicSeq_Unadj</th>\n",
       "      <td>1.000000</td>\n",
       "      <td>0.135318</td>\n",
       "      <td>0.062667</td>\n",
       "      <td>0.294872</td>\n",
       "      <td>0.166733</td>\n",
       "      <td>0.143083</td>\n",
       "      <td>0.210558</td>\n",
       "      <td>0.180994</td>\n",
       "      <td>0.201249</td>\n",
       "      <td>0.171290</td>\n",
       "      <td>0.363765</td>\n",
       "    </tr>\n",
       "    <tr>\n",
       "      <th>CardSort_Unadj</th>\n",
       "      <td>0.135318</td>\n",
       "      <td>1.000000</td>\n",
       "      <td>0.525642</td>\n",
       "      <td>0.200100</td>\n",
       "      <td>0.199863</td>\n",
       "      <td>0.124656</td>\n",
       "      <td>0.292065</td>\n",
       "      <td>0.206310</td>\n",
       "      <td>0.102116</td>\n",
       "      <td>0.134807</td>\n",
       "      <td>0.106358</td>\n",
       "    </tr>\n",
       "    <tr>\n",
       "      <th>Flanker_Unadj</th>\n",
       "      <td>0.062667</td>\n",
       "      <td>0.525642</td>\n",
       "      <td>1.000000</td>\n",
       "      <td>0.098268</td>\n",
       "      <td>0.110804</td>\n",
       "      <td>0.147849</td>\n",
       "      <td>0.303807</td>\n",
       "      <td>0.160794</td>\n",
       "      <td>0.049249</td>\n",
       "      <td>0.135527</td>\n",
       "      <td>0.098549</td>\n",
       "    </tr>\n",
       "    <tr>\n",
       "      <th>PMAT24_A_CR</th>\n",
       "      <td>0.294872</td>\n",
       "      <td>0.200100</td>\n",
       "      <td>0.098268</td>\n",
       "      <td>1.000000</td>\n",
       "      <td>0.430549</td>\n",
       "      <td>0.431842</td>\n",
       "      <td>0.095481</td>\n",
       "      <td>0.383378</td>\n",
       "      <td>0.169786</td>\n",
       "      <td>0.078945</td>\n",
       "      <td>0.331164</td>\n",
       "    </tr>\n",
       "    <tr>\n",
       "      <th>ReadEng_Unadj</th>\n",
       "      <td>0.166733</td>\n",
       "      <td>0.199863</td>\n",
       "      <td>0.110804</td>\n",
       "      <td>0.430549</td>\n",
       "      <td>1.000000</td>\n",
       "      <td>0.634472</td>\n",
       "      <td>0.087961</td>\n",
       "      <td>0.367025</td>\n",
       "      <td>0.249911</td>\n",
       "      <td>0.118682</td>\n",
       "      <td>0.295753</td>\n",
       "    </tr>\n",
       "    <tr>\n",
       "      <th>PicVocab_Unadj</th>\n",
       "      <td>0.143083</td>\n",
       "      <td>0.124656</td>\n",
       "      <td>0.147849</td>\n",
       "      <td>0.431842</td>\n",
       "      <td>0.634472</td>\n",
       "      <td>1.000000</td>\n",
       "      <td>0.075910</td>\n",
       "      <td>0.302511</td>\n",
       "      <td>0.299405</td>\n",
       "      <td>0.201665</td>\n",
       "      <td>0.344163</td>\n",
       "    </tr>\n",
       "    <tr>\n",
       "      <th>ProcSpeed_Unadj</th>\n",
       "      <td>0.210558</td>\n",
       "      <td>0.292065</td>\n",
       "      <td>0.303807</td>\n",
       "      <td>0.095481</td>\n",
       "      <td>0.087961</td>\n",
       "      <td>0.075910</td>\n",
       "      <td>1.000000</td>\n",
       "      <td>0.072992</td>\n",
       "      <td>0.153496</td>\n",
       "      <td>0.275457</td>\n",
       "      <td>0.071203</td>\n",
       "    </tr>\n",
       "    <tr>\n",
       "      <th>VSPLOT_TC</th>\n",
       "      <td>0.180994</td>\n",
       "      <td>0.206310</td>\n",
       "      <td>0.160794</td>\n",
       "      <td>0.383378</td>\n",
       "      <td>0.367025</td>\n",
       "      <td>0.302511</td>\n",
       "      <td>0.072992</td>\n",
       "      <td>1.000000</td>\n",
       "      <td>0.038912</td>\n",
       "      <td>0.050961</td>\n",
       "      <td>0.291110</td>\n",
       "    </tr>\n",
       "    <tr>\n",
       "      <th>IWRD_TOT</th>\n",
       "      <td>0.201249</td>\n",
       "      <td>0.102116</td>\n",
       "      <td>0.049249</td>\n",
       "      <td>0.169786</td>\n",
       "      <td>0.249911</td>\n",
       "      <td>0.299405</td>\n",
       "      <td>0.153496</td>\n",
       "      <td>0.038912</td>\n",
       "      <td>1.000000</td>\n",
       "      <td>0.373554</td>\n",
       "      <td>0.154888</td>\n",
       "    </tr>\n",
       "    <tr>\n",
       "      <th>IWRD_RTC</th>\n",
       "      <td>0.171290</td>\n",
       "      <td>0.134807</td>\n",
       "      <td>0.135527</td>\n",
       "      <td>0.078945</td>\n",
       "      <td>0.118682</td>\n",
       "      <td>0.201665</td>\n",
       "      <td>0.275457</td>\n",
       "      <td>0.050961</td>\n",
       "      <td>0.373554</td>\n",
       "      <td>1.000000</td>\n",
       "      <td>0.093497</td>\n",
       "    </tr>\n",
       "    <tr>\n",
       "      <th>ListSort_Unadj</th>\n",
       "      <td>0.363765</td>\n",
       "      <td>0.106358</td>\n",
       "      <td>0.098549</td>\n",
       "      <td>0.331164</td>\n",
       "      <td>0.295753</td>\n",
       "      <td>0.344163</td>\n",
       "      <td>0.071203</td>\n",
       "      <td>0.291110</td>\n",
       "      <td>0.154888</td>\n",
       "      <td>0.093497</td>\n",
       "      <td>1.000000</td>\n",
       "    </tr>\n",
       "  </tbody>\n",
       "</table>\n",
       "</div>"
      ],
      "text/plain": [
       "                 PicSeq_Unadj  CardSort_Unadj  Flanker_Unadj  PMAT24_A_CR  \\\n",
       "PicSeq_Unadj         1.000000        0.135318       0.062667     0.294872   \n",
       "CardSort_Unadj       0.135318        1.000000       0.525642     0.200100   \n",
       "Flanker_Unadj        0.062667        0.525642       1.000000     0.098268   \n",
       "PMAT24_A_CR          0.294872        0.200100       0.098268     1.000000   \n",
       "ReadEng_Unadj        0.166733        0.199863       0.110804     0.430549   \n",
       "PicVocab_Unadj       0.143083        0.124656       0.147849     0.431842   \n",
       "ProcSpeed_Unadj      0.210558        0.292065       0.303807     0.095481   \n",
       "VSPLOT_TC            0.180994        0.206310       0.160794     0.383378   \n",
       "IWRD_TOT             0.201249        0.102116       0.049249     0.169786   \n",
       "IWRD_RTC             0.171290        0.134807       0.135527     0.078945   \n",
       "ListSort_Unadj       0.363765        0.106358       0.098549     0.331164   \n",
       "\n",
       "                 ReadEng_Unadj  PicVocab_Unadj  ProcSpeed_Unadj  VSPLOT_TC  \\\n",
       "PicSeq_Unadj          0.166733        0.143083         0.210558   0.180994   \n",
       "CardSort_Unadj        0.199863        0.124656         0.292065   0.206310   \n",
       "Flanker_Unadj         0.110804        0.147849         0.303807   0.160794   \n",
       "PMAT24_A_CR           0.430549        0.431842         0.095481   0.383378   \n",
       "ReadEng_Unadj         1.000000        0.634472         0.087961   0.367025   \n",
       "PicVocab_Unadj        0.634472        1.000000         0.075910   0.302511   \n",
       "ProcSpeed_Unadj       0.087961        0.075910         1.000000   0.072992   \n",
       "VSPLOT_TC             0.367025        0.302511         0.072992   1.000000   \n",
       "IWRD_TOT              0.249911        0.299405         0.153496   0.038912   \n",
       "IWRD_RTC              0.118682        0.201665         0.275457   0.050961   \n",
       "ListSort_Unadj        0.295753        0.344163         0.071203   0.291110   \n",
       "\n",
       "                 IWRD_TOT  IWRD_RTC  ListSort_Unadj  \n",
       "PicSeq_Unadj     0.201249  0.171290        0.363765  \n",
       "CardSort_Unadj   0.102116  0.134807        0.106358  \n",
       "Flanker_Unadj    0.049249  0.135527        0.098549  \n",
       "PMAT24_A_CR      0.169786  0.078945        0.331164  \n",
       "ReadEng_Unadj    0.249911  0.118682        0.295753  \n",
       "PicVocab_Unadj   0.299405  0.201665        0.344163  \n",
       "ProcSpeed_Unadj  0.153496  0.275457        0.071203  \n",
       "VSPLOT_TC        0.038912  0.050961        0.291110  \n",
       "IWRD_TOT         1.000000  0.373554        0.154888  \n",
       "IWRD_RTC         0.373554  1.000000        0.093497  \n",
       "ListSort_Unadj   0.154888  0.093497        1.000000  "
      ]
     },
     "execution_count": 10,
     "metadata": {},
     "output_type": "execute_result"
    }
   ],
   "source": [
    "# Perform pairwise correlations of the spreadsheet, resulting in correlations of\n",
    "#each task with each other task\n",
    "fa_df.corr()"
   ]
  },
  {
   "cell_type": "code",
   "execution_count": 11,
   "metadata": {},
   "outputs": [
    {
     "data": {
      "text/plain": [
       "Text(0,0.5,'Task number')"
      ]
     },
     "execution_count": 11,
     "metadata": {},
     "output_type": "execute_result"
    },
    {
     "data": {
      "image/png": "[encoded data removed]",
      "text/plain": [
       "<Figure size 432x288 with 2 Axes>"
      ]
     },
     "metadata": {
      "needs_background": "light"
     },
     "output_type": "display_data"
    }
   ],
   "source": [
    "# Visualize the correlations between the tasks\n",
    "#This matrix is used for Factor Analysis\n",
    "plt.imshow(fa_df.corr().values, interpolation='nearest', cmap='bwr')\n",
    "# Sets the range of values when plotting colors to -1 to 1\n",
    "plt.clim(-1,1)\n",
    "# Show the color legend\n",
    "plt.colorbar()\n",
    "plt.xlabel('Task number')\n",
    "plt.ylabel('Task number')\n",
    "#plt.savefig('/home/csg397/Documents/figures/correlation.png', dpi=300, transparent=True)"
   ]
  },
  {
   "cell_type": "markdown",
   "metadata": {},
   "source": [
    "# Run factor analysis"
   ]
  },
  {
   "cell_type": "code",
   "execution_count": 15,
   "metadata": {},
   "outputs": [
    {
     "name": "stdout",
     "output_type": "stream",
     "text": [
      "The rpy2.ipython extension is already loaded. To reload it, use:\n",
      "  %reload_ext rpy2.ipython\n"
     ]
    }
   ],
   "source": [
    "%load_ext rpy2.ipython\n",
    "import warnings\n",
    "warnings.filterwarnings('ignore')"
   ]
  },
  {
   "cell_type": "code",
   "execution_count": 16,
   "metadata": {},
   "outputs": [],
   "source": [
    "%%R \n",
    "#install.packages(\"psych\", repos='http://cran.us.r-project.org', quiet=TRUE)\n",
    "library(psych)\n",
    "library(nFactors)"
   ]
  },
  {
   "cell_type": "code",
   "execution_count": 17,
   "metadata": {},
   "outputs": [],
   "source": [
    "fa_input_dat = fa_df.values"
   ]
  },
  {
   "cell_type": "code",
   "execution_count": 18,
   "metadata": {},
   "outputs": [],
   "source": [
    "fa_input_mat = fa_df.corr().values"
   ]
  },
  {
   "cell_type": "code",
   "execution_count": 19,
   "metadata": {},
   "outputs": [
    {
     "name": "stdout",
     "output_type": "stream",
     "text": [
      "351\n"
     ]
    }
   ],
   "source": [
    "n_subjs = len(fmri_subjs)\n",
    "print n_subjs"
   ]
  },
  {
   "cell_type": "code",
   "execution_count": 20,
   "metadata": {
    "scrolled": true
   },
   "outputs": [
    {
     "data": {
      "text/plain": [
       "Factor Analysis using method =  minres\n",
       "Call: fa(r = fa_input_dat, nfactors = 1, n.obs = n_subjs, rotate = \"oblimin\", \n",
       "    scores = \"regression\", covar = FALSE, fm = \"minres\")\n",
       "Standardized loadings (pattern matrix) based upon correlation matrix\n",
       "    MR1    h2   u2 com\n",
       "1  0.40 0.157 0.84   1\n",
       "2  0.38 0.141 0.86   1\n",
       "3  0.31 0.095 0.90   1\n",
       "4  0.61 0.369 0.63   1\n",
       "5  0.67 0.449 0.55   1\n",
       "6  0.67 0.454 0.55   1\n",
       "7  0.28 0.079 0.92   1\n",
       "8  0.49 0.236 0.76   1\n",
       "9  0.37 0.137 0.86   1\n",
       "10 0.30 0.090 0.91   1\n",
       "11 0.50 0.245 0.75   1\n",
       "\n",
       "                MR1\n",
       "SS loadings    2.45\n",
       "Proportion Var 0.22\n",
       "\n",
       "Mean item complexity =  1\n",
       "Test of the hypothesis that 1 factor is sufficient.\n",
       "\n",
       "The degrees of freedom for the null model are  55  and the objective function was  2.35 FALSE with Chi Square of  810.21\n",
       "The degrees of freedom for the model are 44  and the objective function was  0.91 \n",
       " FALSE\n",
       "The root mean square of the residuals (RMSR) is  0.11 \n",
       "The df corrected root mean square of the residuals is  0.12 \n",
       " FALSE\n",
       "The harmonic number of observations is  351 with the empirical chi square  445.31  with prob <  8.6e-68 \n",
       " FALSEThe total number of observations was  351  with Likelihood Chi Square =  312.29  with prob <  4e-42 \n",
       " FALSE\n",
       "Tucker Lewis Index of factoring reliability =  0.555\n",
       "RMSEA index =  0.132  and the 90 % confidence intervals are  0.118 0.146 FALSE\n",
       "BIC =  54.42\n",
       "Fit based upon off diagonal values = 0.81\n",
       "Measures of factor score adequacy             \n",
       "                                                   MR1\n",
       "Correlation of (regression) scores with factors   0.89\n",
       "Multiple R square of scores with factors          0.78\n",
       "Minimum correlation of possible factor scores     0.57\n"
      ]
     },
     "metadata": {},
     "output_type": "display_data"
    }
   ],
   "source": [
    "%%R -i fa_input_dat -i n_subjs -o fa_output -o scores -o loads\n",
    "fa_output <- fa(fa_input_dat, nfactors=1, covar=FALSE, fm=\"minres\", n.obs=n_subjs, rotate=\"oblimin\", scores='regression')\n",
    "loads <- fa_output$loadings\n",
    "scores <-fa_output$scores\n",
    "fa_output\n"
   ]
  },
  {
   "cell_type": "markdown",
   "metadata": {},
   "source": [
    "~~~\n",
    "%%R -i fa_input_dat -i n_subjs -o fa_output -o scores -o loads -o test\n",
    "fa_output <- fa(fa_input_dat, nfactors=2, covar=FALSE, fm=\"minres\", n.obs=176, rotate=\"oblimin\", scores='regression')\n",
    "#loads <- fa_output$loadings\n",
    "#scores <-fa_output$scores\n",
    "fa_output\n",
    "test <- omega(fa_input_dat,nfactors=3,fm=\"minres\",n.iter=1,p=.05,poly=FALSE,key=NULL,\n",
    "    flip=TRUE,digits=2, title=\"Omega\",sl=TRUE,labels=NULL,\n",
    "    plot=TRUE,n.obs=NA,rotate=\"oblimin\",Phi=NULL,option=\"equal\",covar=FALSE)\n",
    "scores <- test$scores\n",
    "loads <- test$loadings\n",
    "test\n",
    "~~~"
   ]
  },
  {
   "cell_type": "code",
   "execution_count": 21,
   "metadata": {},
   "outputs": [],
   "source": [
    "load_df = pd.DataFrame(loads.T[0], index=df_cols, columns=['Load'])\n",
    "load_df.to_excel('%s/results/fa/%s/%s_factor_loadings_nfactors_1.xlsx' % (behavdir, subj_group, subj_group))"
   ]
  },
  {
   "cell_type": "code",
   "execution_count": 22,
   "metadata": {},
   "outputs": [
    {
     "data": {
      "text/html": [
       "<div>\n",
       "<style scoped>\n",
       "    .dataframe tbody tr th:only-of-type {\n",
       "        vertical-align: middle;\n",
       "    }\n",
       "\n",
       "    .dataframe tbody tr th {\n",
       "        vertical-align: top;\n",
       "    }\n",
       "\n",
       "    .dataframe thead th {\n",
       "        text-align: right;\n",
       "    }\n",
       "</style>\n",
       "<table border=\"1\" class=\"dataframe\">\n",
       "  <thead>\n",
       "    <tr style=\"text-align: right;\">\n",
       "      <th></th>\n",
       "      <th>Load</th>\n",
       "    </tr>\n",
       "  </thead>\n",
       "  <tbody>\n",
       "    <tr>\n",
       "      <th>PicSeq_Unadj</th>\n",
       "      <td>0.396715</td>\n",
       "    </tr>\n",
       "    <tr>\n",
       "      <th>CardSort_Unadj</th>\n",
       "      <td>0.375706</td>\n",
       "    </tr>\n",
       "    <tr>\n",
       "      <th>Flanker_Unadj</th>\n",
       "      <td>0.308403</td>\n",
       "    </tr>\n",
       "    <tr>\n",
       "      <th>PMAT24_A_CR</th>\n",
       "      <td>0.607387</td>\n",
       "    </tr>\n",
       "    <tr>\n",
       "      <th>ReadEng_Unadj</th>\n",
       "      <td>0.669821</td>\n",
       "    </tr>\n",
       "    <tr>\n",
       "      <th>PicVocab_Unadj</th>\n",
       "      <td>0.673930</td>\n",
       "    </tr>\n",
       "    <tr>\n",
       "      <th>ProcSpeed_Unadj</th>\n",
       "      <td>0.280330</td>\n",
       "    </tr>\n",
       "    <tr>\n",
       "      <th>VSPLOT_TC</th>\n",
       "      <td>0.485364</td>\n",
       "    </tr>\n",
       "    <tr>\n",
       "      <th>IWRD_TOT</th>\n",
       "      <td>0.370019</td>\n",
       "    </tr>\n",
       "    <tr>\n",
       "      <th>IWRD_RTC</th>\n",
       "      <td>0.300739</td>\n",
       "    </tr>\n",
       "    <tr>\n",
       "      <th>ListSort_Unadj</th>\n",
       "      <td>0.495047</td>\n",
       "    </tr>\n",
       "  </tbody>\n",
       "</table>\n",
       "</div>"
      ],
      "text/plain": [
       "                     Load\n",
       "PicSeq_Unadj     0.396715\n",
       "CardSort_Unadj   0.375706\n",
       "Flanker_Unadj    0.308403\n",
       "PMAT24_A_CR      0.607387\n",
       "ReadEng_Unadj    0.669821\n",
       "PicVocab_Unadj   0.673930\n",
       "ProcSpeed_Unadj  0.280330\n",
       "VSPLOT_TC        0.485364\n",
       "IWRD_TOT         0.370019\n",
       "IWRD_RTC         0.300739\n",
       "ListSort_Unadj   0.495047"
      ]
     },
     "execution_count": 22,
     "metadata": {},
     "output_type": "execute_result"
    }
   ],
   "source": [
    "load_df"
   ]
  },
  {
   "cell_type": "code",
   "execution_count": 23,
   "metadata": {},
   "outputs": [],
   "source": [
    "scores_df = pd.DataFrame(scores, index=fmri_subjs, columns=['g'])\n",
    "scores_df.to_excel('%s/results/fa/%s/%s_factor_scores_nfactors_1.xlsx' % (behavdir, subj_group, subj_group))"
   ]
  },
  {
   "cell_type": "code",
   "execution_count": 24,
   "metadata": {},
   "outputs": [
    {
     "name": "stdout",
     "output_type": "stream",
     "text": [
      "2.277380563333654e-16\n",
      "0.8837408679728593\n"
     ]
    },
    {
     "data": {
      "text/plain": [
       "Text(0,0.5,'# Subjects')"
      ]
     },
     "execution_count": 24,
     "metadata": {},
     "output_type": "execute_result"
    },
    {
     "data": {
      "image/png": "[encoded data removed]",
      "text/plain": [
       "<Figure size 432x288 with 1 Axes>"
      ]
     },
     "metadata": {
      "needs_background": "light"
     },
     "output_type": "display_data"
    }
   ],
   "source": [
    "plt.hist(scores_df['g'].dropna(), bins=15);\n",
    "print np.nanmean(scores_df['g'])\n",
    "print np.nanstd(scores_df['g'])\n",
    "plt.xlabel('g (Intelligence Factor)')\n",
    "plt.ylabel('# Subjects')"
   ]
  },
  {
   "cell_type": "code",
   "execution_count": null,
   "metadata": {},
   "outputs": [],
   "source": []
  }
 ],
 "metadata": {
  "kernelspec": {
   "display_name": "Python 3 (ipykernel)",
   "language": "python",
   "name": "python3"
  },
  "language_info": {
   "codemirror_mode": {
    "name": "ipython",
    "version": 3
   },
   "file_extension": ".py",
   "mimetype": "text/x-python",
   "name": "python",
   "nbconvert_exporter": "python",
   "pygments_lexer": "ipython3",
   "version": "3.9.7"
  }
 },
 "nbformat": 4,
 "nbformat_minor": 4
}
